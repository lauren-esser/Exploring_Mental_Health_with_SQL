{
  "nbformat": 4,
  "nbformat_minor": 0,
  "metadata": {
    "colab": {
      "name": "Mental_Health_Survey.ipynb",
      "provenance": [],
      "collapsed_sections": [],
      "authorship_tag": "ABX9TyOElFv37T4MzMLNWA6fkvB5",
      "include_colab_link": true
    },
    "kernelspec": {
      "name": "python3",
      "display_name": "Python 3"
    }
  },
  "cells": [
    {
      "cell_type": "markdown",
      "metadata": {
        "id": "view-in-github",
        "colab_type": "text"
      },
      "source": [
        "<a href=\"https://colab.research.google.com/github/lauren-esser/Exploring_Mental_Health_with_SQL/blob/main/Mental_Health_Survey.ipynb\" target=\"_parent\"><img src=\"https://colab.research.google.com/assets/colab-badge.svg\" alt=\"Open In Colab\"/></a>"
      ]
    },
    {
      "cell_type": "markdown",
      "metadata": {
        "id": "W5A-iT-yIm7N"
      },
      "source": [
        "# Obtain Data"
      ]
    },
    {
      "cell_type": "code",
      "metadata": {
        "id": "WQqV0bG7EKRX"
      },
      "source": [
        "import sqlite3\n",
        "import pandas as pd\n",
        "import seaborn as sns\n"
      ],
      "execution_count": 1,
      "outputs": []
    },
    {
      "cell_type": "code",
      "metadata": {
        "colab": {
          "base_uri": "https://localhost:8080/"
        },
        "id": "KF-KdHq_EM91",
        "outputId": "12e69fa2-8d8f-4f8d-ed6a-1b3315ee0ba6"
      },
      "source": [
        "#connect to google drive\n",
        "from google.colab import drive\n",
        "drive.mount('/gdrive', force_remount = True)"
      ],
      "execution_count": 2,
      "outputs": [
        {
          "output_type": "stream",
          "text": [
            "Mounted at /gdrive\n"
          ],
          "name": "stdout"
        }
      ]
    },
    {
      "cell_type": "code",
      "metadata": {
        "colab": {
          "base_uri": "https://localhost:8080/"
        },
        "id": "uVO5MUKREPbu",
        "outputId": "6e36b14e-b632-4219-8095-f72beb6e40ed"
      },
      "source": [
        "#move to home directory\n",
        "%cd ~\n",
        "%cd ..\n"
      ],
      "execution_count": 3,
      "outputs": [
        {
          "output_type": "stream",
          "text": [
            "/root\n",
            "/\n"
          ],
          "name": "stdout"
        }
      ]
    },
    {
      "cell_type": "code",
      "metadata": {
        "colab": {
          "base_uri": "https://localhost:8080/"
        },
        "id": "4x1qrcl1EWJv",
        "outputId": "32a6c120-2117-4e5b-ea83-10a0424d8b9e"
      },
      "source": [
        "#list files in DataSets\n",
        "!ls '/gdrive/My Drive/Colab Notebooks/DataSets'"
      ],
      "execution_count": 4,
      "outputs": [
        {
          "output_type": "stream",
          "text": [
            "chest-xray-pneumonia-jmi.zip  Megatable-2016.sql\n",
            "cleaningpractice.zip\t      mental_health.sqlite\n",
            "country.csv\t\t      ml-latest-small\n",
            "dogs-vs-cats-sorted.zip       News_Category_Dataset_v2.json\n",
            "IVE_tickbidask.txt\n"
          ],
          "name": "stdout"
        }
      ]
    },
    {
      "cell_type": "code",
      "metadata": {
        "id": "UT71uFfeEmnZ"
      },
      "source": [
        "#dataset saved in my google drive\n",
        "con = sqlite3.connect(\"/gdrive/My Drive/Colab Notebooks/DataSets/mental_health.sqlite\")\n"
      ],
      "execution_count": 5,
      "outputs": []
    },
    {
      "cell_type": "code",
      "metadata": {
        "colab": {
          "base_uri": "https://localhost:8080/",
          "height": 197
        },
        "id": "0FOUZuSWFpIY",
        "outputId": "ccb28619-e9df-4fb0-fc63-8ce8144f8204"
      },
      "source": [
        "#import answer dataset\n",
        "answer = pd.read_sql('Select * From Answer', con)\n",
        "answer.head()"
      ],
      "execution_count": 6,
      "outputs": [
        {
          "output_type": "execute_result",
          "data": {
            "text/html": [
              "<div>\n",
              "<style scoped>\n",
              "    .dataframe tbody tr th:only-of-type {\n",
              "        vertical-align: middle;\n",
              "    }\n",
              "\n",
              "    .dataframe tbody tr th {\n",
              "        vertical-align: top;\n",
              "    }\n",
              "\n",
              "    .dataframe thead th {\n",
              "        text-align: right;\n",
              "    }\n",
              "</style>\n",
              "<table border=\"1\" class=\"dataframe\">\n",
              "  <thead>\n",
              "    <tr style=\"text-align: right;\">\n",
              "      <th></th>\n",
              "      <th>AnswerText</th>\n",
              "      <th>SurveyID</th>\n",
              "      <th>UserID</th>\n",
              "      <th>QuestionID</th>\n",
              "    </tr>\n",
              "  </thead>\n",
              "  <tbody>\n",
              "    <tr>\n",
              "      <th>0</th>\n",
              "      <td>37</td>\n",
              "      <td>2014</td>\n",
              "      <td>1</td>\n",
              "      <td>1</td>\n",
              "    </tr>\n",
              "    <tr>\n",
              "      <th>1</th>\n",
              "      <td>44</td>\n",
              "      <td>2014</td>\n",
              "      <td>2</td>\n",
              "      <td>1</td>\n",
              "    </tr>\n",
              "    <tr>\n",
              "      <th>2</th>\n",
              "      <td>32</td>\n",
              "      <td>2014</td>\n",
              "      <td>3</td>\n",
              "      <td>1</td>\n",
              "    </tr>\n",
              "    <tr>\n",
              "      <th>3</th>\n",
              "      <td>31</td>\n",
              "      <td>2014</td>\n",
              "      <td>4</td>\n",
              "      <td>1</td>\n",
              "    </tr>\n",
              "    <tr>\n",
              "      <th>4</th>\n",
              "      <td>31</td>\n",
              "      <td>2014</td>\n",
              "      <td>5</td>\n",
              "      <td>1</td>\n",
              "    </tr>\n",
              "  </tbody>\n",
              "</table>\n",
              "</div>"
            ],
            "text/plain": [
              "  AnswerText  SurveyID  UserID  QuestionID\n",
              "0         37      2014       1           1\n",
              "1         44      2014       2           1\n",
              "2         32      2014       3           1\n",
              "3         31      2014       4           1\n",
              "4         31      2014       5           1"
            ]
          },
          "metadata": {
            "tags": []
          },
          "execution_count": 6
        }
      ]
    },
    {
      "cell_type": "code",
      "metadata": {
        "colab": {
          "base_uri": "https://localhost:8080/",
          "height": 197
        },
        "id": "0ehx6XagFuXC",
        "outputId": "062ae066-2dd7-4997-86ad-123168ffcd23"
      },
      "source": [
        "#import survey dataset\n",
        "survey = pd.read_sql('Select * FROM Survey', con)\n",
        "survey.head()"
      ],
      "execution_count": 7,
      "outputs": [
        {
          "output_type": "execute_result",
          "data": {
            "text/html": [
              "<div>\n",
              "<style scoped>\n",
              "    .dataframe tbody tr th:only-of-type {\n",
              "        vertical-align: middle;\n",
              "    }\n",
              "\n",
              "    .dataframe tbody tr th {\n",
              "        vertical-align: top;\n",
              "    }\n",
              "\n",
              "    .dataframe thead th {\n",
              "        text-align: right;\n",
              "    }\n",
              "</style>\n",
              "<table border=\"1\" class=\"dataframe\">\n",
              "  <thead>\n",
              "    <tr style=\"text-align: right;\">\n",
              "      <th></th>\n",
              "      <th>SurveyID</th>\n",
              "      <th>Description</th>\n",
              "    </tr>\n",
              "  </thead>\n",
              "  <tbody>\n",
              "    <tr>\n",
              "      <th>0</th>\n",
              "      <td>2014</td>\n",
              "      <td>mental health survey for 2014</td>\n",
              "    </tr>\n",
              "    <tr>\n",
              "      <th>1</th>\n",
              "      <td>2016</td>\n",
              "      <td>mental health survey for 2016</td>\n",
              "    </tr>\n",
              "    <tr>\n",
              "      <th>2</th>\n",
              "      <td>2017</td>\n",
              "      <td>mental health survey for 2017</td>\n",
              "    </tr>\n",
              "    <tr>\n",
              "      <th>3</th>\n",
              "      <td>2018</td>\n",
              "      <td>mental health survey for 2018</td>\n",
              "    </tr>\n",
              "    <tr>\n",
              "      <th>4</th>\n",
              "      <td>2019</td>\n",
              "      <td>mental health survey for 2019</td>\n",
              "    </tr>\n",
              "  </tbody>\n",
              "</table>\n",
              "</div>"
            ],
            "text/plain": [
              "   SurveyID                    Description\n",
              "0      2014  mental health survey for 2014\n",
              "1      2016  mental health survey for 2016\n",
              "2      2017  mental health survey for 2017\n",
              "3      2018  mental health survey for 2018\n",
              "4      2019  mental health survey for 2019"
            ]
          },
          "metadata": {
            "tags": []
          },
          "execution_count": 7
        }
      ]
    },
    {
      "cell_type": "code",
      "metadata": {
        "colab": {
          "base_uri": "https://localhost:8080/",
          "height": 197
        },
        "id": "c7-rRdz8Gk3Z",
        "outputId": "cca49f4c-8b0a-4141-8adb-b6df5ed24a0d"
      },
      "source": [
        "#import question dataset\n",
        "question = pd.read_sql('Select * FROM Question', con)\n",
        "question.head()"
      ],
      "execution_count": 8,
      "outputs": [
        {
          "output_type": "execute_result",
          "data": {
            "text/html": [
              "<div>\n",
              "<style scoped>\n",
              "    .dataframe tbody tr th:only-of-type {\n",
              "        vertical-align: middle;\n",
              "    }\n",
              "\n",
              "    .dataframe tbody tr th {\n",
              "        vertical-align: top;\n",
              "    }\n",
              "\n",
              "    .dataframe thead th {\n",
              "        text-align: right;\n",
              "    }\n",
              "</style>\n",
              "<table border=\"1\" class=\"dataframe\">\n",
              "  <thead>\n",
              "    <tr style=\"text-align: right;\">\n",
              "      <th></th>\n",
              "      <th>questiontext</th>\n",
              "      <th>questionid</th>\n",
              "    </tr>\n",
              "  </thead>\n",
              "  <tbody>\n",
              "    <tr>\n",
              "      <th>0</th>\n",
              "      <td>What is your age?</td>\n",
              "      <td>1</td>\n",
              "    </tr>\n",
              "    <tr>\n",
              "      <th>1</th>\n",
              "      <td>What is your gender?</td>\n",
              "      <td>2</td>\n",
              "    </tr>\n",
              "    <tr>\n",
              "      <th>2</th>\n",
              "      <td>What country do you live in?</td>\n",
              "      <td>3</td>\n",
              "    </tr>\n",
              "    <tr>\n",
              "      <th>3</th>\n",
              "      <td>If you live in the United States, which state ...</td>\n",
              "      <td>4</td>\n",
              "    </tr>\n",
              "    <tr>\n",
              "      <th>4</th>\n",
              "      <td>Are you self-employed?</td>\n",
              "      <td>5</td>\n",
              "    </tr>\n",
              "  </tbody>\n",
              "</table>\n",
              "</div>"
            ],
            "text/plain": [
              "                                        questiontext  questionid\n",
              "0                                  What is your age?           1\n",
              "1                               What is your gender?           2\n",
              "2                       What country do you live in?           3\n",
              "3  If you live in the United States, which state ...           4\n",
              "4                             Are you self-employed?           5"
            ]
          },
          "metadata": {
            "tags": []
          },
          "execution_count": 8
        }
      ]
    },
    {
      "cell_type": "code",
      "metadata": {
        "colab": {
          "base_uri": "https://localhost:8080/",
          "height": 197
        },
        "id": "etNveofqGs79",
        "outputId": "a0c1e83e-7f94-4e7d-bc99-371732a2b87b"
      },
      "source": [
        "#merge question and answer data tables [survey not needed yet]\n",
        "q_a = pd.read_sql('Select * FROM answer JOIN Question on answer.QuestionID = Question.questionid', con)\n",
        "q_a.head()"
      ],
      "execution_count": 9,
      "outputs": [
        {
          "output_type": "execute_result",
          "data": {
            "text/html": [
              "<div>\n",
              "<style scoped>\n",
              "    .dataframe tbody tr th:only-of-type {\n",
              "        vertical-align: middle;\n",
              "    }\n",
              "\n",
              "    .dataframe tbody tr th {\n",
              "        vertical-align: top;\n",
              "    }\n",
              "\n",
              "    .dataframe thead th {\n",
              "        text-align: right;\n",
              "    }\n",
              "</style>\n",
              "<table border=\"1\" class=\"dataframe\">\n",
              "  <thead>\n",
              "    <tr style=\"text-align: right;\">\n",
              "      <th></th>\n",
              "      <th>AnswerText</th>\n",
              "      <th>SurveyID</th>\n",
              "      <th>UserID</th>\n",
              "      <th>QuestionID</th>\n",
              "      <th>questiontext</th>\n",
              "      <th>questionid</th>\n",
              "    </tr>\n",
              "  </thead>\n",
              "  <tbody>\n",
              "    <tr>\n",
              "      <th>0</th>\n",
              "      <td>37</td>\n",
              "      <td>2014</td>\n",
              "      <td>1</td>\n",
              "      <td>1</td>\n",
              "      <td>What is your age?</td>\n",
              "      <td>1</td>\n",
              "    </tr>\n",
              "    <tr>\n",
              "      <th>1</th>\n",
              "      <td>44</td>\n",
              "      <td>2014</td>\n",
              "      <td>2</td>\n",
              "      <td>1</td>\n",
              "      <td>What is your age?</td>\n",
              "      <td>1</td>\n",
              "    </tr>\n",
              "    <tr>\n",
              "      <th>2</th>\n",
              "      <td>32</td>\n",
              "      <td>2014</td>\n",
              "      <td>3</td>\n",
              "      <td>1</td>\n",
              "      <td>What is your age?</td>\n",
              "      <td>1</td>\n",
              "    </tr>\n",
              "    <tr>\n",
              "      <th>3</th>\n",
              "      <td>31</td>\n",
              "      <td>2014</td>\n",
              "      <td>4</td>\n",
              "      <td>1</td>\n",
              "      <td>What is your age?</td>\n",
              "      <td>1</td>\n",
              "    </tr>\n",
              "    <tr>\n",
              "      <th>4</th>\n",
              "      <td>31</td>\n",
              "      <td>2014</td>\n",
              "      <td>5</td>\n",
              "      <td>1</td>\n",
              "      <td>What is your age?</td>\n",
              "      <td>1</td>\n",
              "    </tr>\n",
              "  </tbody>\n",
              "</table>\n",
              "</div>"
            ],
            "text/plain": [
              "  AnswerText  SurveyID  UserID  QuestionID       questiontext  questionid\n",
              "0         37      2014       1           1  What is your age?           1\n",
              "1         44      2014       2           1  What is your age?           1\n",
              "2         32      2014       3           1  What is your age?           1\n",
              "3         31      2014       4           1  What is your age?           1\n",
              "4         31      2014       5           1  What is your age?           1"
            ]
          },
          "metadata": {
            "tags": []
          },
          "execution_count": 9
        }
      ]
    },
    {
      "cell_type": "markdown",
      "metadata": {
        "id": "vnaz1mPbIqD6"
      },
      "source": [
        "# Scrub Data"
      ]
    },
    {
      "cell_type": "code",
      "metadata": {
        "colab": {
          "base_uri": "https://localhost:8080/"
        },
        "id": "_khulFIyHUMT",
        "outputId": "82a5dd0b-1780-4e7b-d774-452e950df935"
      },
      "source": [
        "#check null\n",
        "q_a.isna().sum()"
      ],
      "execution_count": 10,
      "outputs": [
        {
          "output_type": "execute_result",
          "data": {
            "text/plain": [
              "AnswerText      0\n",
              "SurveyID        0\n",
              "UserID          0\n",
              "QuestionID      0\n",
              "questiontext    0\n",
              "questionid      0\n",
              "dtype: int64"
            ]
          },
          "metadata": {
            "tags": []
          },
          "execution_count": 10
        }
      ]
    },
    {
      "cell_type": "markdown",
      "metadata": {
        "id": "-Y0s2XNGJmy8"
      },
      "source": [
        "**Exploring Questions**"
      ]
    },
    {
      "cell_type": "code",
      "metadata": {
        "colab": {
          "base_uri": "https://localhost:8080/"
        },
        "id": "k1fUx0YaItnD",
        "outputId": "ed1f520d-43d5-4bd7-be85-5ab05ca014ef"
      },
      "source": [
        "print(\"Number of Questions:\", q_a.questionid.nunique())"
      ],
      "execution_count": 11,
      "outputs": [
        {
          "output_type": "stream",
          "text": [
            "Number of Questions: 105\n"
          ],
          "name": "stdout"
        }
      ]
    },
    {
      "cell_type": "code",
      "metadata": {
        "colab": {
          "base_uri": "https://localhost:8080/",
          "height": 35
        },
        "id": "PfoLaTZ1Jx9V",
        "outputId": "6bc81596-06d5-402e-e232-d7e1eccafb05"
      },
      "source": [
        "q_a.questiontext[3]"
      ],
      "execution_count": 12,
      "outputs": [
        {
          "output_type": "execute_result",
          "data": {
            "application/vnd.google.colaboratory.intrinsic+json": {
              "type": "string"
            },
            "text/plain": [
              "'What is your age?'"
            ]
          },
          "metadata": {
            "tags": []
          },
          "execution_count": 12
        }
      ]
    },
    {
      "cell_type": "code",
      "metadata": {
        "colab": {
          "base_uri": "https://localhost:8080/"
        },
        "id": "-skbwfwgL0Lo",
        "outputId": "88c2666d-2061-4f05-8bd1-2697164f4cfd"
      },
      "source": [
        "#questions with the most responses\n",
        "q_a.questiontext.value_counts().sort_values(ascending = False)[:12]"
      ],
      "execution_count": 72,
      "outputs": [
        {
          "output_type": "execute_result",
          "data": {
            "text/plain": [
              "Do you have a family history of mental illness?                                                                                                   4218\n",
              "If you live in the United States, which state or territory do you live in?                                                                        4218\n",
              "Would you bring up a mental health issue with a potential employer in an interview?                                                               4218\n",
              "Is your anonymity protected if you choose to take advantage of mental health or substance abuse treatment resources provided by your employer?    4218\n",
              "What is your age?                                                                                                                                 4218\n",
              "What country do you live in?                                                                                                                      4218\n",
              "Is your employer primarily a tech company/organization?                                                                                           4218\n",
              "Does your employer provide mental health benefits as part of healthcare coverage?                                                                 4218\n",
              "Have you ever sought treatment for a mental health disorder from a mental health professional?                                                    4218\n",
              "Are you self-employed?                                                                                                                            4218\n",
              "How many employees does your company or organization have?                                                                                        4218\n",
              "What is your gender?                                                                                                                              4218\n",
              "Name: questiontext, dtype: int64"
            ]
          },
          "metadata": {
            "tags": []
          },
          "execution_count": 72
        }
      ]
    },
    {
      "cell_type": "code",
      "metadata": {
        "colab": {
          "base_uri": "https://localhost:8080/"
        },
        "id": "3LrropTdI-2E",
        "outputId": "c9b97921-19ea-4fba-9d60-57af881ff674"
      },
      "source": [
        "print(\"Number of Unique Users:\", q_a.UserID.nunique())"
      ],
      "execution_count": 14,
      "outputs": [
        {
          "output_type": "stream",
          "text": [
            "Number of Unique Users: 4218\n"
          ],
          "name": "stdout"
        }
      ]
    },
    {
      "cell_type": "markdown",
      "metadata": {
        "id": "mbi1XdIPsvQH"
      },
      "source": [
        "**1. How many employees does your company or organization have?**"
      ]
    },
    {
      "cell_type": "code",
      "metadata": {
        "colab": {
          "base_uri": "https://localhost:8080/",
          "height": 406
        },
        "id": "g94Xp9RgszBp",
        "outputId": "ddc5f23b-686d-426d-a355-3e46006c9e9d"
      },
      "source": [
        "#find answers that correspond to above question\n",
        "employees = q_a[q_a.questiontext == \"How many employees does your company or organization have?\"]\n",
        "employees"
      ],
      "execution_count": 15,
      "outputs": [
        {
          "output_type": "execute_result",
          "data": {
            "text/html": [
              "<div>\n",
              "<style scoped>\n",
              "    .dataframe tbody tr th:only-of-type {\n",
              "        vertical-align: middle;\n",
              "    }\n",
              "\n",
              "    .dataframe tbody tr th {\n",
              "        vertical-align: top;\n",
              "    }\n",
              "\n",
              "    .dataframe thead th {\n",
              "        text-align: right;\n",
              "    }\n",
              "</style>\n",
              "<table border=\"1\" class=\"dataframe\">\n",
              "  <thead>\n",
              "    <tr style=\"text-align: right;\">\n",
              "      <th></th>\n",
              "      <th>AnswerText</th>\n",
              "      <th>SurveyID</th>\n",
              "      <th>UserID</th>\n",
              "      <th>QuestionID</th>\n",
              "      <th>questiontext</th>\n",
              "      <th>questionid</th>\n",
              "    </tr>\n",
              "  </thead>\n",
              "  <tbody>\n",
              "    <tr>\n",
              "      <th>8820</th>\n",
              "      <td>6-25</td>\n",
              "      <td>2014</td>\n",
              "      <td>1</td>\n",
              "      <td>8</td>\n",
              "      <td>How many employees does your company or organi...</td>\n",
              "      <td>8</td>\n",
              "    </tr>\n",
              "    <tr>\n",
              "      <th>8821</th>\n",
              "      <td>More than 1000</td>\n",
              "      <td>2014</td>\n",
              "      <td>2</td>\n",
              "      <td>8</td>\n",
              "      <td>How many employees does your company or organi...</td>\n",
              "      <td>8</td>\n",
              "    </tr>\n",
              "    <tr>\n",
              "      <th>8822</th>\n",
              "      <td>6-25</td>\n",
              "      <td>2014</td>\n",
              "      <td>3</td>\n",
              "      <td>8</td>\n",
              "      <td>How many employees does your company or organi...</td>\n",
              "      <td>8</td>\n",
              "    </tr>\n",
              "    <tr>\n",
              "      <th>8823</th>\n",
              "      <td>26-100</td>\n",
              "      <td>2014</td>\n",
              "      <td>4</td>\n",
              "      <td>8</td>\n",
              "      <td>How many employees does your company or organi...</td>\n",
              "      <td>8</td>\n",
              "    </tr>\n",
              "    <tr>\n",
              "      <th>8824</th>\n",
              "      <td>100-500</td>\n",
              "      <td>2014</td>\n",
              "      <td>5</td>\n",
              "      <td>8</td>\n",
              "      <td>How many employees does your company or organi...</td>\n",
              "      <td>8</td>\n",
              "    </tr>\n",
              "    <tr>\n",
              "      <th>...</th>\n",
              "      <td>...</td>\n",
              "      <td>...</td>\n",
              "      <td>...</td>\n",
              "      <td>...</td>\n",
              "      <td>...</td>\n",
              "      <td>...</td>\n",
              "    </tr>\n",
              "    <tr>\n",
              "      <th>206400</th>\n",
              "      <td>More than 1000</td>\n",
              "      <td>2019</td>\n",
              "      <td>4214</td>\n",
              "      <td>8</td>\n",
              "      <td>How many employees does your company or organi...</td>\n",
              "      <td>8</td>\n",
              "    </tr>\n",
              "    <tr>\n",
              "      <th>206401</th>\n",
              "      <td>-1</td>\n",
              "      <td>2019</td>\n",
              "      <td>4215</td>\n",
              "      <td>8</td>\n",
              "      <td>How many employees does your company or organi...</td>\n",
              "      <td>8</td>\n",
              "    </tr>\n",
              "    <tr>\n",
              "      <th>206402</th>\n",
              "      <td>-1</td>\n",
              "      <td>2019</td>\n",
              "      <td>4216</td>\n",
              "      <td>8</td>\n",
              "      <td>How many employees does your company or organi...</td>\n",
              "      <td>8</td>\n",
              "    </tr>\n",
              "    <tr>\n",
              "      <th>206403</th>\n",
              "      <td>More than 1000</td>\n",
              "      <td>2019</td>\n",
              "      <td>4217</td>\n",
              "      <td>8</td>\n",
              "      <td>How many employees does your company or organi...</td>\n",
              "      <td>8</td>\n",
              "    </tr>\n",
              "    <tr>\n",
              "      <th>206404</th>\n",
              "      <td>More than 1000</td>\n",
              "      <td>2019</td>\n",
              "      <td>4218</td>\n",
              "      <td>8</td>\n",
              "      <td>How many employees does your company or organi...</td>\n",
              "      <td>8</td>\n",
              "    </tr>\n",
              "  </tbody>\n",
              "</table>\n",
              "<p>4218 rows × 6 columns</p>\n",
              "</div>"
            ],
            "text/plain": [
              "            AnswerText  ...  questionid\n",
              "8820              6-25  ...           8\n",
              "8821    More than 1000  ...           8\n",
              "8822              6-25  ...           8\n",
              "8823            26-100  ...           8\n",
              "8824           100-500  ...           8\n",
              "...                ...  ...         ...\n",
              "206400  More than 1000  ...           8\n",
              "206401              -1  ...           8\n",
              "206402              -1  ...           8\n",
              "206403  More than 1000  ...           8\n",
              "206404  More than 1000  ...           8\n",
              "\n",
              "[4218 rows x 6 columns]"
            ]
          },
          "metadata": {
            "tags": []
          },
          "execution_count": 15
        }
      ]
    },
    {
      "cell_type": "code",
      "metadata": {
        "colab": {
          "base_uri": "https://localhost:8080/"
        },
        "id": "gBlnY4cQt5fQ",
        "outputId": "93bac8f4-51a3-416f-eeac-cf4a370ba64a"
      },
      "source": [
        "employees.AnswerText.nunique()"
      ],
      "execution_count": 16,
      "outputs": [
        {
          "output_type": "execute_result",
          "data": {
            "text/plain": [
              "7"
            ]
          },
          "metadata": {
            "tags": []
          },
          "execution_count": 16
        }
      ]
    },
    {
      "cell_type": "code",
      "metadata": {
        "colab": {
          "base_uri": "https://localhost:8080/"
        },
        "id": "ZOD0EBnRuPm-",
        "outputId": "e6c0b0a3-213a-4c16-aeba-2feba81b45aa"
      },
      "source": [
        "employees.AnswerText.value_counts()"
      ],
      "execution_count": 17,
      "outputs": [
        {
          "output_type": "execute_result",
          "data": {
            "text/plain": [
              "More than 1000    912\n",
              "26-100            824\n",
              "100-500           788\n",
              "6-25              689\n",
              "-1                504\n",
              "1-5               254\n",
              "500-1000          247\n",
              "Name: AnswerText, dtype: int64"
            ]
          },
          "metadata": {
            "tags": []
          },
          "execution_count": 17
        }
      ]
    },
    {
      "cell_type": "code",
      "metadata": {
        "colab": {
          "base_uri": "https://localhost:8080/",
          "height": 347
        },
        "id": "ucBDBkmPumNG",
        "outputId": "c3023ffb-a848-458f-c291-e1984ad63d50"
      },
      "source": [
        "ax = sns.histplot(employees.AnswerText)\n",
        "\n",
        "ax.set_title(\"Number of Employees\")\n",
        "ax.set_xlabel(\"Range of Employees\")\n",
        "labels = employees.AnswerText\n",
        "ax.set_xticklabels(labels, rotation = 45);"
      ],
      "execution_count": 18,
      "outputs": [
        {
          "output_type": "display_data",
          "data": {
            "image/png": "[encoded data removed]",
            "text/plain": [
              "<Figure size 432x288 with 1 Axes>"
            ]
          },
          "metadata": {
            "tags": [],
            "needs_background": "light"
          }
        }
      ]
    },
    {
      "cell_type": "code",
      "metadata": {
        "colab": {
          "base_uri": "https://localhost:8080/"
        },
        "id": "hqHiqAPbxr_C",
        "outputId": "57fc1e71-474e-4243-ce82-0b6f982c1724"
      },
      "source": [
        "experiment = [employees.AnswerText.value_counts()[4], employees.AnswerText.value_counts()[5], employees.AnswerText.value_counts()[3],\n",
        "              employees.AnswerText.value_counts()[1], employees.AnswerText.value_counts()[2], employees.AnswerText.value_counts()[6], employees.AnswerText.value_counts()[0]]\n",
        "experiment"
      ],
      "execution_count": 19,
      "outputs": [
        {
          "output_type": "execute_result",
          "data": {
            "text/plain": [
              "[504, 254, 689, 824, 788, 247, 912]"
            ]
          },
          "metadata": {
            "tags": []
          },
          "execution_count": 19
        }
      ]
    },
    {
      "cell_type": "markdown",
      "metadata": {
        "id": "499kR59LrfM2"
      },
      "source": [
        "**>> Come back to this and see if I can sort the x-axis**"
      ]
    },
    {
      "cell_type": "markdown",
      "metadata": {
        "id": "moH2_oXVztx5"
      },
      "source": [
        "**2. What country do you live in?**"
      ]
    },
    {
      "cell_type": "code",
      "metadata": {
        "colab": {
          "base_uri": "https://localhost:8080/",
          "height": 197
        },
        "id": "boFWOWRlzxy3",
        "outputId": "b79845cd-5e85-4cab-8841-b59f7b32203a"
      },
      "source": [
        "#find answers that correspond to above question\n",
        "country = q_a[q_a.questiontext == \"What country do you live in?\"]\n",
        "country.head()"
      ],
      "execution_count": 20,
      "outputs": [
        {
          "output_type": "execute_result",
          "data": {
            "text/html": [
              "<div>\n",
              "<style scoped>\n",
              "    .dataframe tbody tr th:only-of-type {\n",
              "        vertical-align: middle;\n",
              "    }\n",
              "\n",
              "    .dataframe tbody tr th {\n",
              "        vertical-align: top;\n",
              "    }\n",
              "\n",
              "    .dataframe thead th {\n",
              "        text-align: right;\n",
              "    }\n",
              "</style>\n",
              "<table border=\"1\" class=\"dataframe\">\n",
              "  <thead>\n",
              "    <tr style=\"text-align: right;\">\n",
              "      <th></th>\n",
              "      <th>AnswerText</th>\n",
              "      <th>SurveyID</th>\n",
              "      <th>UserID</th>\n",
              "      <th>QuestionID</th>\n",
              "      <th>questiontext</th>\n",
              "      <th>questionid</th>\n",
              "    </tr>\n",
              "  </thead>\n",
              "  <tbody>\n",
              "    <tr>\n",
              "      <th>2520</th>\n",
              "      <td>United States</td>\n",
              "      <td>2014</td>\n",
              "      <td>1</td>\n",
              "      <td>3</td>\n",
              "      <td>What country do you live in?</td>\n",
              "      <td>3</td>\n",
              "    </tr>\n",
              "    <tr>\n",
              "      <th>2521</th>\n",
              "      <td>United States</td>\n",
              "      <td>2014</td>\n",
              "      <td>2</td>\n",
              "      <td>3</td>\n",
              "      <td>What country do you live in?</td>\n",
              "      <td>3</td>\n",
              "    </tr>\n",
              "    <tr>\n",
              "      <th>2522</th>\n",
              "      <td>Canada</td>\n",
              "      <td>2014</td>\n",
              "      <td>3</td>\n",
              "      <td>3</td>\n",
              "      <td>What country do you live in?</td>\n",
              "      <td>3</td>\n",
              "    </tr>\n",
              "    <tr>\n",
              "      <th>2523</th>\n",
              "      <td>United Kingdom</td>\n",
              "      <td>2014</td>\n",
              "      <td>4</td>\n",
              "      <td>3</td>\n",
              "      <td>What country do you live in?</td>\n",
              "      <td>3</td>\n",
              "    </tr>\n",
              "    <tr>\n",
              "      <th>2524</th>\n",
              "      <td>United States</td>\n",
              "      <td>2014</td>\n",
              "      <td>5</td>\n",
              "      <td>3</td>\n",
              "      <td>What country do you live in?</td>\n",
              "      <td>3</td>\n",
              "    </tr>\n",
              "  </tbody>\n",
              "</table>\n",
              "</div>"
            ],
            "text/plain": [
              "          AnswerText  SurveyID  ...                  questiontext  questionid\n",
              "2520   United States      2014  ...  What country do you live in?           3\n",
              "2521   United States      2014  ...  What country do you live in?           3\n",
              "2522          Canada      2014  ...  What country do you live in?           3\n",
              "2523  United Kingdom      2014  ...  What country do you live in?           3\n",
              "2524   United States      2014  ...  What country do you live in?           3\n",
              "\n",
              "[5 rows x 6 columns]"
            ]
          },
          "metadata": {
            "tags": []
          },
          "execution_count": 20
        }
      ]
    },
    {
      "cell_type": "code",
      "metadata": {
        "colab": {
          "base_uri": "https://localhost:8080/"
        },
        "id": "5JV3L6NOz6MS",
        "outputId": "b9408e54-37da-4b20-b4cf-649a496d801b"
      },
      "source": [
        "country.AnswerText.nunique()"
      ],
      "execution_count": 21,
      "outputs": [
        {
          "output_type": "execute_result",
          "data": {
            "text/plain": [
              "81"
            ]
          },
          "metadata": {
            "tags": []
          },
          "execution_count": 21
        }
      ]
    },
    {
      "cell_type": "code",
      "metadata": {
        "colab": {
          "base_uri": "https://localhost:8080/"
        },
        "id": "3PuCjFzSz--U",
        "outputId": "9615f243-1fc4-4079-8c78-9a9ca2e69177"
      },
      "source": [
        "country.AnswerText.value_counts()"
      ],
      "execution_count": 22,
      "outputs": [
        {
          "output_type": "execute_result",
          "data": {
            "text/plain": [
              "United States of America    1853\n",
              "United States                751\n",
              "United Kingdom               482\n",
              "Canada                       199\n",
              "Germany                      136\n",
              "                            ... \n",
              "Taiwan                         1\n",
              "Guatemala                      1\n",
              "Philippines                    1\n",
              "Ecuador                        1\n",
              "Saudi Arabia                   1\n",
              "Name: AnswerText, Length: 81, dtype: int64"
            ]
          },
          "metadata": {
            "tags": []
          },
          "execution_count": 22
        }
      ]
    },
    {
      "cell_type": "code",
      "metadata": {
        "colab": {
          "base_uri": "https://localhost:8080/"
        },
        "id": "kUotccoE2Bo3",
        "outputId": "3d0b9746-05af-4063-f8ce-4eed4a6dafeb"
      },
      "source": [
        "country.AnswerText.replace(\"United States of America\", \"United States\", inplace = True)"
      ],
      "execution_count": 23,
      "outputs": [
        {
          "output_type": "stream",
          "text": [
            "/usr/local/lib/python3.6/dist-packages/pandas/core/series.py:4582: SettingWithCopyWarning: \n",
            "A value is trying to be set on a copy of a slice from a DataFrame\n",
            "\n",
            "See the caveats in the documentation: https://pandas.pydata.org/pandas-docs/stable/user_guide/indexing.html#returning-a-view-versus-a-copy\n",
            "  method=method,\n"
          ],
          "name": "stderr"
        }
      ]
    },
    {
      "cell_type": "code",
      "metadata": {
        "id": "km2xin-bsiES"
      },
      "source": [
        "country.to_csv(r'/gdrive/My Drive/Colab Notebooks/DataSets/country.csv', index = False)"
      ],
      "execution_count": 24,
      "outputs": []
    },
    {
      "cell_type": "code",
      "metadata": {
        "colab": {
          "base_uri": "https://localhost:8080/",
          "height": 791
        },
        "id": "VfQ8DMdJ6ZnE",
        "outputId": "3428da58-66d3-4dcf-dfdb-e870978da77c"
      },
      "source": [
        "%%HTML\n",
        "<div class='tableauPlaceholder' id='viz1611768881518' style='position: relative'><noscript><a href='#'><img alt=' ' src='https:&#47;&#47;public.tableau.com&#47;static&#47;images&#47;YS&#47;YSHK28Z6C&#47;1_rss.png' style='border: none' /></a></noscript><object class='tableauViz'  style='display:none;'><param name='host_url' value='https%3A%2F%2Fpublic.tableau.com%2F' /> <param name='embed_code_version' value='3' /> <param name='path' value='shared&#47;YSHK28Z6C' /> <param name='toolbar' value='yes' /><param name='static_image' value='https:&#47;&#47;public.tableau.com&#47;static&#47;images&#47;YS&#47;YSHK28Z6C&#47;1.png' /> <param name='animate_transition' value='yes' /><param name='display_static_image' value='yes' /><param name='display_spinner' value='yes' /><param name='display_overlay' value='yes' /><param name='display_count' value='yes' /><param name='language' value='en' /><param name='filter' value='publish=yes' /></object></div>                <script type='text/javascript'>                    var divElement = document.getElementById('viz1611768881518');                    var vizElement = divElement.getElementsByTagName('object')[0];                    vizElement.style.width='100%';vizElement.style.height=(divElement.offsetWidth*0.75)+'px';                    var scriptElement = document.createElement('script');                    scriptElement.src = 'https://public.tableau.com/javascripts/api/viz_v1.js';                    vizElement.parentNode.insertBefore(scriptElement, vizElement);                </script>"
      ],
      "execution_count": 30,
      "outputs": [
        {
          "output_type": "display_data",
          "data": {
            "text/html": [
              "<div class='tableauPlaceholder' id='viz1611768881518' style='position: relative'><noscript><a href='#'><img alt=' ' src='https:&#47;&#47;public.tableau.com&#47;static&#47;images&#47;YS&#47;YSHK28Z6C&#47;1_rss.png' style='border: none' /></a></noscript><object class='tableauViz'  style='display:none;'><param name='host_url' value='https%3A%2F%2Fpublic.tableau.com%2F' /> <param name='embed_code_version' value='3' /> <param name='path' value='shared&#47;YSHK28Z6C' /> <param name='toolbar' value='yes' /><param name='static_image' value='https:&#47;&#47;public.tableau.com&#47;static&#47;images&#47;YS&#47;YSHK28Z6C&#47;1.png' /> <param name='animate_transition' value='yes' /><param name='display_static_image' value='yes' /><param name='display_spinner' value='yes' /><param name='display_overlay' value='yes' /><param name='display_count' value='yes' /><param name='language' value='en' /><param name='filter' value='publish=yes' /></object></div>                <script type='text/javascript'>                    var divElement = document.getElementById('viz1611768881518');                    var vizElement = divElement.getElementsByTagName('object')[0];                    vizElement.style.width='100%';vizElement.style.height=(divElement.offsetWidth*0.75)+'px';                    var scriptElement = document.createElement('script');                    scriptElement.src = 'https://public.tableau.com/javascripts/api/viz_v1.js';                    vizElement.parentNode.insertBefore(scriptElement, vizElement);                </script>"
            ],
            "text/plain": [
              "<IPython.core.display.HTML object>"
            ]
          },
          "metadata": {
            "tags": []
          }
        }
      ]
    },
    {
      "cell_type": "markdown",
      "metadata": {
        "id": "2KnIBTdCuiup"
      },
      "source": [
        "**3. Family history of Mental Health?**\n",
        "\n",
        "\n"
      ]
    },
    {
      "cell_type": "code",
      "metadata": {
        "colab": {
          "base_uri": "https://localhost:8080/",
          "height": 197
        },
        "id": "UgtYeo8b64B_",
        "outputId": "bbf6c997-fc2e-42f5-edaa-3b0d33df375a"
      },
      "source": [
        "#find answers that correspond to above question\n",
        "family = q_a[q_a.questiontext == \"Do you have a family history of mental illness?\"]\n",
        "family.head()"
      ],
      "execution_count": 31,
      "outputs": [
        {
          "output_type": "execute_result",
          "data": {
            "text/html": [
              "<div>\n",
              "<style scoped>\n",
              "    .dataframe tbody tr th:only-of-type {\n",
              "        vertical-align: middle;\n",
              "    }\n",
              "\n",
              "    .dataframe tbody tr th {\n",
              "        vertical-align: top;\n",
              "    }\n",
              "\n",
              "    .dataframe thead th {\n",
              "        text-align: right;\n",
              "    }\n",
              "</style>\n",
              "<table border=\"1\" class=\"dataframe\">\n",
              "  <thead>\n",
              "    <tr style=\"text-align: right;\">\n",
              "      <th></th>\n",
              "      <th>AnswerText</th>\n",
              "      <th>SurveyID</th>\n",
              "      <th>UserID</th>\n",
              "      <th>QuestionID</th>\n",
              "      <th>questiontext</th>\n",
              "      <th>questionid</th>\n",
              "    </tr>\n",
              "  </thead>\n",
              "  <tbody>\n",
              "    <tr>\n",
              "      <th>6300</th>\n",
              "      <td>No</td>\n",
              "      <td>2014</td>\n",
              "      <td>1</td>\n",
              "      <td>6</td>\n",
              "      <td>Do you have a family history of mental illness?</td>\n",
              "      <td>6</td>\n",
              "    </tr>\n",
              "    <tr>\n",
              "      <th>6301</th>\n",
              "      <td>No</td>\n",
              "      <td>2014</td>\n",
              "      <td>2</td>\n",
              "      <td>6</td>\n",
              "      <td>Do you have a family history of mental illness?</td>\n",
              "      <td>6</td>\n",
              "    </tr>\n",
              "    <tr>\n",
              "      <th>6302</th>\n",
              "      <td>No</td>\n",
              "      <td>2014</td>\n",
              "      <td>3</td>\n",
              "      <td>6</td>\n",
              "      <td>Do you have a family history of mental illness?</td>\n",
              "      <td>6</td>\n",
              "    </tr>\n",
              "    <tr>\n",
              "      <th>6303</th>\n",
              "      <td>Yes</td>\n",
              "      <td>2014</td>\n",
              "      <td>4</td>\n",
              "      <td>6</td>\n",
              "      <td>Do you have a family history of mental illness?</td>\n",
              "      <td>6</td>\n",
              "    </tr>\n",
              "    <tr>\n",
              "      <th>6304</th>\n",
              "      <td>No</td>\n",
              "      <td>2014</td>\n",
              "      <td>5</td>\n",
              "      <td>6</td>\n",
              "      <td>Do you have a family history of mental illness?</td>\n",
              "      <td>6</td>\n",
              "    </tr>\n",
              "  </tbody>\n",
              "</table>\n",
              "</div>"
            ],
            "text/plain": [
              "     AnswerText  ...  questionid\n",
              "6300         No  ...           6\n",
              "6301         No  ...           6\n",
              "6302         No  ...           6\n",
              "6303        Yes  ...           6\n",
              "6304         No  ...           6\n",
              "\n",
              "[5 rows x 6 columns]"
            ]
          },
          "metadata": {
            "tags": []
          },
          "execution_count": 31
        }
      ]
    },
    {
      "cell_type": "code",
      "metadata": {
        "colab": {
          "base_uri": "https://localhost:8080/"
        },
        "id": "J9zayrRI7EvY",
        "outputId": "9f175279-0341-42f0-9a69-9a3f6d96698f"
      },
      "source": [
        "family.AnswerText.value_counts()"
      ],
      "execution_count": 32,
      "outputs": [
        {
          "output_type": "execute_result",
          "data": {
            "text/plain": [
              "Yes             1868\n",
              "No              1701\n",
              "I don't know     649\n",
              "Name: AnswerText, dtype: int64"
            ]
          },
          "metadata": {
            "tags": []
          },
          "execution_count": 32
        }
      ]
    },
    {
      "cell_type": "code",
      "metadata": {
        "id": "p61MesxS7gjp"
      },
      "source": [
        "family.AnswerText.value_counts().to_csv(r'/gdrive/My Drive/Colab Notebooks/DataSets/family.csv')"
      ],
      "execution_count": 35,
      "outputs": []
    },
    {
      "cell_type": "code",
      "metadata": {
        "colab": {
          "base_uri": "https://localhost:8080/",
          "height": 777
        },
        "id": "2WskxN2g9JaU",
        "outputId": "c5c8feda-7136-4f83-f8b4-683d0b004046"
      },
      "source": [
        "%%HTML\n",
        "<div class='tableauPlaceholder' id='viz1611769611137' style='position: relative'><noscript><a href='#'><img alt=' ' src='https:&#47;&#47;public.tableau.com&#47;static&#47;images&#47;Fa&#47;FamilyHistory_16117696017400&#47;Sheet1&#47;1_rss.png' style='border: none' /></a></noscript><object class='tableauViz'  style='display:none;'><param name='host_url' value='https%3A%2F%2Fpublic.tableau.com%2F' /> <param name='embed_code_version' value='3' /> <param name='site_root' value='' /><param name='name' value='FamilyHistory_16117696017400&#47;Sheet1' /><param name='tabs' value='no' /><param name='toolbar' value='yes' /><param name='static_image' value='https:&#47;&#47;public.tableau.com&#47;static&#47;images&#47;Fa&#47;FamilyHistory_16117696017400&#47;Sheet1&#47;1.png' /> <param name='animate_transition' value='yes' /><param name='display_static_image' value='yes' /><param name='display_spinner' value='yes' /><param name='display_overlay' value='yes' /><param name='display_count' value='yes' /><param name='language' value='en' /><param name='filter' value='publish=yes' /></object></div>                <script type='text/javascript'>                    var divElement = document.getElementById('viz1611769611137');                    var vizElement = divElement.getElementsByTagName('object')[0];                    vizElement.style.width='100%';vizElement.style.height=(divElement.offsetWidth*0.75)+'px';                    var scriptElement = document.createElement('script');                    scriptElement.src = 'https://public.tableau.com/javascripts/api/viz_v1.js';                    vizElement.parentNode.insertBefore(scriptElement, vizElement);                </script>"
      ],
      "execution_count": 36,
      "outputs": [
        {
          "output_type": "display_data",
          "data": {
            "text/html": [
              "<div class='tableauPlaceholder' id='viz1611769611137' style='position: relative'><noscript><a href='#'><img alt=' ' src='https:&#47;&#47;public.tableau.com&#47;static&#47;images&#47;Fa&#47;FamilyHistory_16117696017400&#47;Sheet1&#47;1_rss.png' style='border: none' /></a></noscript><object class='tableauViz'  style='display:none;'><param name='host_url' value='https%3A%2F%2Fpublic.tableau.com%2F' /> <param name='embed_code_version' value='3' /> <param name='site_root' value='' /><param name='name' value='FamilyHistory_16117696017400&#47;Sheet1' /><param name='tabs' value='no' /><param name='toolbar' value='yes' /><param name='static_image' value='https:&#47;&#47;public.tableau.com&#47;static&#47;images&#47;Fa&#47;FamilyHistory_16117696017400&#47;Sheet1&#47;1.png' /> <param name='animate_transition' value='yes' /><param name='display_static_image' value='yes' /><param name='display_spinner' value='yes' /><param name='display_overlay' value='yes' /><param name='display_count' value='yes' /><param name='language' value='en' /><param name='filter' value='publish=yes' /></object></div>                <script type='text/javascript'>                    var divElement = document.getElementById('viz1611769611137');                    var vizElement = divElement.getElementsByTagName('object')[0];                    vizElement.style.width='100%';vizElement.style.height=(divElement.offsetWidth*0.75)+'px';                    var scriptElement = document.createElement('script');                    scriptElement.src = 'https://public.tableau.com/javascripts/api/viz_v1.js';                    vizElement.parentNode.insertBefore(scriptElement, vizElement);                </script>"
            ],
            "text/plain": [
              "<IPython.core.display.HTML object>"
            ]
          },
          "metadata": {
            "tags": []
          }
        }
      ]
    },
    {
      "cell_type": "markdown",
      "metadata": {
        "id": "Xdt6teTbsDS2"
      },
      "source": [
        "**4. What is your age?**"
      ]
    },
    {
      "cell_type": "code",
      "metadata": {
        "colab": {
          "base_uri": "https://localhost:8080/",
          "height": 197
        },
        "id": "SKqu7J6XL8_H",
        "outputId": "bccdde7d-723a-492b-ec87-fa393f06f254"
      },
      "source": [
        "age = q_a[q_a.questionid == 1]\n",
        "age.head()"
      ],
      "execution_count": 26,
      "outputs": [
        {
          "output_type": "execute_result",
          "data": {
            "text/html": [
              "<div>\n",
              "<style scoped>\n",
              "    .dataframe tbody tr th:only-of-type {\n",
              "        vertical-align: middle;\n",
              "    }\n",
              "\n",
              "    .dataframe tbody tr th {\n",
              "        vertical-align: top;\n",
              "    }\n",
              "\n",
              "    .dataframe thead th {\n",
              "        text-align: right;\n",
              "    }\n",
              "</style>\n",
              "<table border=\"1\" class=\"dataframe\">\n",
              "  <thead>\n",
              "    <tr style=\"text-align: right;\">\n",
              "      <th></th>\n",
              "      <th>AnswerText</th>\n",
              "      <th>SurveyID</th>\n",
              "      <th>UserID</th>\n",
              "      <th>QuestionID</th>\n",
              "      <th>questiontext</th>\n",
              "      <th>questionid</th>\n",
              "    </tr>\n",
              "  </thead>\n",
              "  <tbody>\n",
              "    <tr>\n",
              "      <th>0</th>\n",
              "      <td>37</td>\n",
              "      <td>2014</td>\n",
              "      <td>1</td>\n",
              "      <td>1</td>\n",
              "      <td>What is your age?</td>\n",
              "      <td>1</td>\n",
              "    </tr>\n",
              "    <tr>\n",
              "      <th>1</th>\n",
              "      <td>44</td>\n",
              "      <td>2014</td>\n",
              "      <td>2</td>\n",
              "      <td>1</td>\n",
              "      <td>What is your age?</td>\n",
              "      <td>1</td>\n",
              "    </tr>\n",
              "    <tr>\n",
              "      <th>2</th>\n",
              "      <td>32</td>\n",
              "      <td>2014</td>\n",
              "      <td>3</td>\n",
              "      <td>1</td>\n",
              "      <td>What is your age?</td>\n",
              "      <td>1</td>\n",
              "    </tr>\n",
              "    <tr>\n",
              "      <th>3</th>\n",
              "      <td>31</td>\n",
              "      <td>2014</td>\n",
              "      <td>4</td>\n",
              "      <td>1</td>\n",
              "      <td>What is your age?</td>\n",
              "      <td>1</td>\n",
              "    </tr>\n",
              "    <tr>\n",
              "      <th>4</th>\n",
              "      <td>31</td>\n",
              "      <td>2014</td>\n",
              "      <td>5</td>\n",
              "      <td>1</td>\n",
              "      <td>What is your age?</td>\n",
              "      <td>1</td>\n",
              "    </tr>\n",
              "  </tbody>\n",
              "</table>\n",
              "</div>"
            ],
            "text/plain": [
              "  AnswerText  SurveyID  UserID  QuestionID       questiontext  questionid\n",
              "0         37      2014       1           1  What is your age?           1\n",
              "1         44      2014       2           1  What is your age?           1\n",
              "2         32      2014       3           1  What is your age?           1\n",
              "3         31      2014       4           1  What is your age?           1\n",
              "4         31      2014       5           1  What is your age?           1"
            ]
          },
          "metadata": {
            "tags": []
          },
          "execution_count": 26
        }
      ]
    },
    {
      "cell_type": "code",
      "metadata": {
        "colab": {
          "base_uri": "https://localhost:8080/",
          "height": 278
        },
        "id": "IZmUHxllwux9",
        "outputId": "88266baf-cf83-4013-f24b-36143dac91e4"
      },
      "source": [
        "sns.histplot(age.AnswerText, bins = 10);"
      ],
      "execution_count": 27,
      "outputs": [
        {
          "output_type": "display_data",
          "data": {
            "image/png": "[encoded data removed]",
            "text/plain": [
              "<Figure size 432x288 with 1 Axes>"
            ]
          },
          "metadata": {
            "tags": [],
            "needs_background": "light"
          }
        }
      ]
    },
    {
      "cell_type": "code",
      "metadata": {
        "id": "9yRaS4aTsQft",
        "colab": {
          "base_uri": "https://localhost:8080/",
          "height": 35
        },
        "outputId": "b28deba2-f25e-4327-99d4-f35f77a34113"
      },
      "source": [
        "age.AnswerText.min()"
      ],
      "execution_count": 42,
      "outputs": [
        {
          "output_type": "execute_result",
          "data": {
            "application/vnd.google.colaboratory.intrinsic+json": {
              "type": "string"
            },
            "text/plain": [
              "'-1'"
            ]
          },
          "metadata": {
            "tags": []
          },
          "execution_count": 42
        }
      ]
    },
    {
      "cell_type": "code",
      "metadata": {
        "colab": {
          "base_uri": "https://localhost:8080/",
          "height": 35
        },
        "id": "Xa_oPiauKTJ3",
        "outputId": "23c9c352-00b0-427f-8abe-e0aea44248b5"
      },
      "source": [
        "age.AnswerText.max()"
      ],
      "execution_count": 48,
      "outputs": [
        {
          "output_type": "execute_result",
          "data": {
            "application/vnd.google.colaboratory.intrinsic+json": {
              "type": "string"
            },
            "text/plain": [
              "'99'"
            ]
          },
          "metadata": {
            "tags": []
          },
          "execution_count": 48
        }
      ]
    },
    {
      "cell_type": "code",
      "metadata": {
        "colab": {
          "base_uri": "https://localhost:8080/"
        },
        "id": "Bi8OpzuLK4Sk",
        "outputId": "bb463c1a-65e6-4357-ac1d-4cb4d12ac32b"
      },
      "source": [
        "age.info()"
      ],
      "execution_count": 56,
      "outputs": [
        {
          "output_type": "stream",
          "text": [
            "<class 'pandas.core.frame.DataFrame'>\n",
            "Int64Index: 4218 entries, 0 to 203940\n",
            "Data columns (total 6 columns):\n",
            " #   Column        Non-Null Count  Dtype \n",
            "---  ------        --------------  ----- \n",
            " 0   AnswerText    4218 non-null   int64 \n",
            " 1   SurveyID      4218 non-null   int64 \n",
            " 2   UserID        4218 non-null   int64 \n",
            " 3   QuestionID    4218 non-null   int64 \n",
            " 4   questiontext  4218 non-null   object\n",
            " 5   questionid    4218 non-null   int64 \n",
            "dtypes: int64(5), object(1)\n",
            "memory usage: 230.7+ KB\n"
          ],
          "name": "stdout"
        }
      ]
    },
    {
      "cell_type": "code",
      "metadata": {
        "colab": {
          "base_uri": "https://localhost:8080/"
        },
        "id": "Skys3o0oLWCM",
        "outputId": "7f91cdf5-d806-4ee0-8fed-ad5598f15663"
      },
      "source": [
        "age.AnswerText = age.AnswerText.astype('int64')"
      ],
      "execution_count": 55,
      "outputs": [
        {
          "output_type": "stream",
          "text": [
            "/usr/local/lib/python3.6/dist-packages/pandas/core/generic.py:5170: SettingWithCopyWarning: \n",
            "A value is trying to be set on a copy of a slice from a DataFrame.\n",
            "Try using .loc[row_indexer,col_indexer] = value instead\n",
            "\n",
            "See the caveats in the documentation: https://pandas.pydata.org/pandas-docs/stable/user_guide/indexing.html#returning-a-view-versus-a-copy\n",
            "  self[name] = value\n"
          ],
          "name": "stderr"
        }
      ]
    },
    {
      "cell_type": "code",
      "metadata": {
        "colab": {
          "base_uri": "https://localhost:8080/"
        },
        "id": "4D28ypHvKUmr",
        "outputId": "6ca36adf-6481-4076-ec07-380aff4b45bf"
      },
      "source": [
        "age_groups = pd.cut(age[\"AnswerText\"], bins = [1, 20, 40, 60, 80, 100])\n",
        "age.groupby(age_groups)"
      ],
      "execution_count": 67,
      "outputs": [
        {
          "output_type": "execute_result",
          "data": {
            "text/plain": [
              "<pandas.core.groupby.generic.DataFrameGroupBy object at 0x7fe216fc7a58>"
            ]
          },
          "metadata": {
            "tags": []
          },
          "execution_count": 67
        }
      ]
    },
    {
      "cell_type": "code",
      "metadata": {
        "colab": {
          "base_uri": "https://localhost:8080/",
          "height": 197
        },
        "id": "IT9hvMlWKsEk",
        "outputId": "927dc0e1-2c56-4671-b604-c30512ab5612"
      },
      "source": [
        "age.head()"
      ],
      "execution_count": 60,
      "outputs": [
        {
          "output_type": "execute_result",
          "data": {
            "text/html": [
              "<div>\n",
              "<style scoped>\n",
              "    .dataframe tbody tr th:only-of-type {\n",
              "        vertical-align: middle;\n",
              "    }\n",
              "\n",
              "    .dataframe tbody tr th {\n",
              "        vertical-align: top;\n",
              "    }\n",
              "\n",
              "    .dataframe thead th {\n",
              "        text-align: right;\n",
              "    }\n",
              "</style>\n",
              "<table border=\"1\" class=\"dataframe\">\n",
              "  <thead>\n",
              "    <tr style=\"text-align: right;\">\n",
              "      <th></th>\n",
              "      <th>AnswerText</th>\n",
              "      <th>SurveyID</th>\n",
              "      <th>UserID</th>\n",
              "      <th>QuestionID</th>\n",
              "      <th>questiontext</th>\n",
              "      <th>questionid</th>\n",
              "    </tr>\n",
              "  </thead>\n",
              "  <tbody>\n",
              "    <tr>\n",
              "      <th>0</th>\n",
              "      <td>37</td>\n",
              "      <td>2014</td>\n",
              "      <td>1</td>\n",
              "      <td>1</td>\n",
              "      <td>What is your age?</td>\n",
              "      <td>1</td>\n",
              "    </tr>\n",
              "    <tr>\n",
              "      <th>1</th>\n",
              "      <td>44</td>\n",
              "      <td>2014</td>\n",
              "      <td>2</td>\n",
              "      <td>1</td>\n",
              "      <td>What is your age?</td>\n",
              "      <td>1</td>\n",
              "    </tr>\n",
              "    <tr>\n",
              "      <th>2</th>\n",
              "      <td>32</td>\n",
              "      <td>2014</td>\n",
              "      <td>3</td>\n",
              "      <td>1</td>\n",
              "      <td>What is your age?</td>\n",
              "      <td>1</td>\n",
              "    </tr>\n",
              "    <tr>\n",
              "      <th>3</th>\n",
              "      <td>31</td>\n",
              "      <td>2014</td>\n",
              "      <td>4</td>\n",
              "      <td>1</td>\n",
              "      <td>What is your age?</td>\n",
              "      <td>1</td>\n",
              "    </tr>\n",
              "    <tr>\n",
              "      <th>4</th>\n",
              "      <td>31</td>\n",
              "      <td>2014</td>\n",
              "      <td>5</td>\n",
              "      <td>1</td>\n",
              "      <td>What is your age?</td>\n",
              "      <td>1</td>\n",
              "    </tr>\n",
              "  </tbody>\n",
              "</table>\n",
              "</div>"
            ],
            "text/plain": [
              "   AnswerText  SurveyID  UserID  QuestionID       questiontext  questionid\n",
              "0          37      2014       1           1  What is your age?           1\n",
              "1          44      2014       2           1  What is your age?           1\n",
              "2          32      2014       3           1  What is your age?           1\n",
              "3          31      2014       4           1  What is your age?           1\n",
              "4          31      2014       5           1  What is your age?           1"
            ]
          },
          "metadata": {
            "tags": []
          },
          "execution_count": 60
        }
      ]
    },
    {
      "cell_type": "code",
      "metadata": {
        "colab": {
          "base_uri": "https://localhost:8080/",
          "height": 827
        },
        "id": "2tijHwzEL_tD",
        "outputId": "8ae15386-a815-4589-b7ed-723d54c7b8a8"
      },
      "source": [
        "age.groupby(age_groups).head()"
      ],
      "execution_count": 68,
      "outputs": [
        {
          "output_type": "execute_result",
          "data": {
            "text/html": [
              "<div>\n",
              "<style scoped>\n",
              "    .dataframe tbody tr th:only-of-type {\n",
              "        vertical-align: middle;\n",
              "    }\n",
              "\n",
              "    .dataframe tbody tr th {\n",
              "        vertical-align: top;\n",
              "    }\n",
              "\n",
              "    .dataframe thead th {\n",
              "        text-align: right;\n",
              "    }\n",
              "</style>\n",
              "<table border=\"1\" class=\"dataframe\">\n",
              "  <thead>\n",
              "    <tr style=\"text-align: right;\">\n",
              "      <th></th>\n",
              "      <th>AnswerText</th>\n",
              "      <th>SurveyID</th>\n",
              "      <th>UserID</th>\n",
              "      <th>QuestionID</th>\n",
              "      <th>questiontext</th>\n",
              "      <th>questionid</th>\n",
              "    </tr>\n",
              "  </thead>\n",
              "  <tbody>\n",
              "    <tr>\n",
              "      <th>0</th>\n",
              "      <td>37</td>\n",
              "      <td>2014</td>\n",
              "      <td>1</td>\n",
              "      <td>1</td>\n",
              "      <td>What is your age?</td>\n",
              "      <td>1</td>\n",
              "    </tr>\n",
              "    <tr>\n",
              "      <th>1</th>\n",
              "      <td>44</td>\n",
              "      <td>2014</td>\n",
              "      <td>2</td>\n",
              "      <td>1</td>\n",
              "      <td>What is your age?</td>\n",
              "      <td>1</td>\n",
              "    </tr>\n",
              "    <tr>\n",
              "      <th>2</th>\n",
              "      <td>32</td>\n",
              "      <td>2014</td>\n",
              "      <td>3</td>\n",
              "      <td>1</td>\n",
              "      <td>What is your age?</td>\n",
              "      <td>1</td>\n",
              "    </tr>\n",
              "    <tr>\n",
              "      <th>3</th>\n",
              "      <td>31</td>\n",
              "      <td>2014</td>\n",
              "      <td>4</td>\n",
              "      <td>1</td>\n",
              "      <td>What is your age?</td>\n",
              "      <td>1</td>\n",
              "    </tr>\n",
              "    <tr>\n",
              "      <th>4</th>\n",
              "      <td>31</td>\n",
              "      <td>2014</td>\n",
              "      <td>5</td>\n",
              "      <td>1</td>\n",
              "      <td>What is your age?</td>\n",
              "      <td>1</td>\n",
              "    </tr>\n",
              "    <tr>\n",
              "      <th>5</th>\n",
              "      <td>33</td>\n",
              "      <td>2014</td>\n",
              "      <td>6</td>\n",
              "      <td>1</td>\n",
              "      <td>What is your age?</td>\n",
              "      <td>1</td>\n",
              "    </tr>\n",
              "    <tr>\n",
              "      <th>8</th>\n",
              "      <td>42</td>\n",
              "      <td>2014</td>\n",
              "      <td>9</td>\n",
              "      <td>1</td>\n",
              "      <td>What is your age?</td>\n",
              "      <td>1</td>\n",
              "    </tr>\n",
              "    <tr>\n",
              "      <th>12</th>\n",
              "      <td>42</td>\n",
              "      <td>2014</td>\n",
              "      <td>13</td>\n",
              "      <td>1</td>\n",
              "      <td>What is your age?</td>\n",
              "      <td>1</td>\n",
              "    </tr>\n",
              "    <tr>\n",
              "      <th>18</th>\n",
              "      <td>46</td>\n",
              "      <td>2014</td>\n",
              "      <td>19</td>\n",
              "      <td>1</td>\n",
              "      <td>What is your age?</td>\n",
              "      <td>1</td>\n",
              "    </tr>\n",
              "    <tr>\n",
              "      <th>22</th>\n",
              "      <td>46</td>\n",
              "      <td>2014</td>\n",
              "      <td>23</td>\n",
              "      <td>1</td>\n",
              "      <td>What is your age?</td>\n",
              "      <td>1</td>\n",
              "    </tr>\n",
              "    <tr>\n",
              "      <th>43</th>\n",
              "      <td>18</td>\n",
              "      <td>2014</td>\n",
              "      <td>44</td>\n",
              "      <td>1</td>\n",
              "      <td>What is your age?</td>\n",
              "      <td>1</td>\n",
              "    </tr>\n",
              "    <tr>\n",
              "      <th>75</th>\n",
              "      <td>19</td>\n",
              "      <td>2014</td>\n",
              "      <td>76</td>\n",
              "      <td>1</td>\n",
              "      <td>What is your age?</td>\n",
              "      <td>1</td>\n",
              "    </tr>\n",
              "    <tr>\n",
              "      <th>93</th>\n",
              "      <td>18</td>\n",
              "      <td>2014</td>\n",
              "      <td>94</td>\n",
              "      <td>1</td>\n",
              "      <td>What is your age?</td>\n",
              "      <td>1</td>\n",
              "    </tr>\n",
              "    <tr>\n",
              "      <th>118</th>\n",
              "      <td>18</td>\n",
              "      <td>2014</td>\n",
              "      <td>119</td>\n",
              "      <td>1</td>\n",
              "      <td>What is your age?</td>\n",
              "      <td>1</td>\n",
              "    </tr>\n",
              "    <tr>\n",
              "      <th>129</th>\n",
              "      <td>19</td>\n",
              "      <td>2014</td>\n",
              "      <td>130</td>\n",
              "      <td>1</td>\n",
              "      <td>What is your age?</td>\n",
              "      <td>1</td>\n",
              "    </tr>\n",
              "    <tr>\n",
              "      <th>143</th>\n",
              "      <td>-29</td>\n",
              "      <td>2014</td>\n",
              "      <td>144</td>\n",
              "      <td>1</td>\n",
              "      <td>What is your age?</td>\n",
              "      <td>1</td>\n",
              "    </tr>\n",
              "    <tr>\n",
              "      <th>364</th>\n",
              "      <td>329</td>\n",
              "      <td>2014</td>\n",
              "      <td>365</td>\n",
              "      <td>1</td>\n",
              "      <td>What is your age?</td>\n",
              "      <td>1</td>\n",
              "    </tr>\n",
              "    <tr>\n",
              "      <th>390</th>\n",
              "      <td>-1</td>\n",
              "      <td>2014</td>\n",
              "      <td>391</td>\n",
              "      <td>1</td>\n",
              "      <td>What is your age?</td>\n",
              "      <td>1</td>\n",
              "    </tr>\n",
              "    <tr>\n",
              "      <th>520</th>\n",
              "      <td>62</td>\n",
              "      <td>2014</td>\n",
              "      <td>521</td>\n",
              "      <td>1</td>\n",
              "      <td>What is your age?</td>\n",
              "      <td>1</td>\n",
              "    </tr>\n",
              "    <tr>\n",
              "      <th>560</th>\n",
              "      <td>65</td>\n",
              "      <td>2014</td>\n",
              "      <td>561</td>\n",
              "      <td>1</td>\n",
              "      <td>What is your age?</td>\n",
              "      <td>1</td>\n",
              "    </tr>\n",
              "    <tr>\n",
              "      <th>715</th>\n",
              "      <td>-1</td>\n",
              "      <td>2014</td>\n",
              "      <td>716</td>\n",
              "      <td>1</td>\n",
              "      <td>What is your age?</td>\n",
              "      <td>1</td>\n",
              "    </tr>\n",
              "    <tr>\n",
              "      <th>952</th>\n",
              "      <td>61</td>\n",
              "      <td>2014</td>\n",
              "      <td>953</td>\n",
              "      <td>1</td>\n",
              "      <td>What is your age?</td>\n",
              "      <td>1</td>\n",
              "    </tr>\n",
              "    <tr>\n",
              "      <th>1127</th>\n",
              "      <td>-1</td>\n",
              "      <td>2014</td>\n",
              "      <td>1128</td>\n",
              "      <td>1</td>\n",
              "      <td>What is your age?</td>\n",
              "      <td>1</td>\n",
              "    </tr>\n",
              "    <tr>\n",
              "      <th>1182</th>\n",
              "      <td>72</td>\n",
              "      <td>2014</td>\n",
              "      <td>1183</td>\n",
              "      <td>1</td>\n",
              "      <td>What is your age?</td>\n",
              "      <td>1</td>\n",
              "    </tr>\n",
              "    <tr>\n",
              "      <th>33068</th>\n",
              "      <td>63</td>\n",
              "      <td>2016</td>\n",
              "      <td>1569</td>\n",
              "      <td>1</td>\n",
              "      <td>What is your age?</td>\n",
              "      <td>1</td>\n",
              "    </tr>\n",
              "    <tr>\n",
              "      <th>33132</th>\n",
              "      <td>99</td>\n",
              "      <td>2016</td>\n",
              "      <td>1633</td>\n",
              "      <td>1</td>\n",
              "      <td>What is your age?</td>\n",
              "      <td>1</td>\n",
              "    </tr>\n",
              "  </tbody>\n",
              "</table>\n",
              "</div>"
            ],
            "text/plain": [
              "       AnswerText  SurveyID  UserID  QuestionID       questiontext  questionid\n",
              "0              37      2014       1           1  What is your age?           1\n",
              "1              44      2014       2           1  What is your age?           1\n",
              "2              32      2014       3           1  What is your age?           1\n",
              "3              31      2014       4           1  What is your age?           1\n",
              "4              31      2014       5           1  What is your age?           1\n",
              "5              33      2014       6           1  What is your age?           1\n",
              "8              42      2014       9           1  What is your age?           1\n",
              "12             42      2014      13           1  What is your age?           1\n",
              "18             46      2014      19           1  What is your age?           1\n",
              "22             46      2014      23           1  What is your age?           1\n",
              "43             18      2014      44           1  What is your age?           1\n",
              "75             19      2014      76           1  What is your age?           1\n",
              "93             18      2014      94           1  What is your age?           1\n",
              "118            18      2014     119           1  What is your age?           1\n",
              "129            19      2014     130           1  What is your age?           1\n",
              "143           -29      2014     144           1  What is your age?           1\n",
              "364           329      2014     365           1  What is your age?           1\n",
              "390            -1      2014     391           1  What is your age?           1\n",
              "520            62      2014     521           1  What is your age?           1\n",
              "560            65      2014     561           1  What is your age?           1\n",
              "715            -1      2014     716           1  What is your age?           1\n",
              "952            61      2014     953           1  What is your age?           1\n",
              "1127           -1      2014    1128           1  What is your age?           1\n",
              "1182           72      2014    1183           1  What is your age?           1\n",
              "33068          63      2016    1569           1  What is your age?           1\n",
              "33132          99      2016    1633           1  What is your age?           1"
            ]
          },
          "metadata": {
            "tags": []
          },
          "execution_count": 68
        }
      ]
    },
    {
      "cell_type": "markdown",
      "metadata": {
        "id": "3DRIPacVMsOM"
      },
      "source": [
        "**5. What is your gender?**"
      ]
    },
    {
      "cell_type": "code",
      "metadata": {
        "colab": {
          "base_uri": "https://localhost:8080/",
          "height": 197
        },
        "id": "M6xFLy20MHZ7",
        "outputId": "f237459f-9fa6-4bef-e7b2-71ecf03c1d1b"
      },
      "source": [
        "#find answers that correspond to above question\n",
        "gender = q_a[q_a.questiontext == \"What is your gender?\"]\n",
        "gender.head()"
      ],
      "execution_count": 73,
      "outputs": [
        {
          "output_type": "execute_result",
          "data": {
            "text/html": [
              "<div>\n",
              "<style scoped>\n",
              "    .dataframe tbody tr th:only-of-type {\n",
              "        vertical-align: middle;\n",
              "    }\n",
              "\n",
              "    .dataframe tbody tr th {\n",
              "        vertical-align: top;\n",
              "    }\n",
              "\n",
              "    .dataframe thead th {\n",
              "        text-align: right;\n",
              "    }\n",
              "</style>\n",
              "<table border=\"1\" class=\"dataframe\">\n",
              "  <thead>\n",
              "    <tr style=\"text-align: right;\">\n",
              "      <th></th>\n",
              "      <th>AnswerText</th>\n",
              "      <th>SurveyID</th>\n",
              "      <th>UserID</th>\n",
              "      <th>QuestionID</th>\n",
              "      <th>questiontext</th>\n",
              "      <th>questionid</th>\n",
              "    </tr>\n",
              "  </thead>\n",
              "  <tbody>\n",
              "    <tr>\n",
              "      <th>1260</th>\n",
              "      <td>Female</td>\n",
              "      <td>2014</td>\n",
              "      <td>1</td>\n",
              "      <td>2</td>\n",
              "      <td>What is your gender?</td>\n",
              "      <td>2</td>\n",
              "    </tr>\n",
              "    <tr>\n",
              "      <th>1261</th>\n",
              "      <td>Male</td>\n",
              "      <td>2014</td>\n",
              "      <td>2</td>\n",
              "      <td>2</td>\n",
              "      <td>What is your gender?</td>\n",
              "      <td>2</td>\n",
              "    </tr>\n",
              "    <tr>\n",
              "      <th>1262</th>\n",
              "      <td>Male</td>\n",
              "      <td>2014</td>\n",
              "      <td>3</td>\n",
              "      <td>2</td>\n",
              "      <td>What is your gender?</td>\n",
              "      <td>2</td>\n",
              "    </tr>\n",
              "    <tr>\n",
              "      <th>1263</th>\n",
              "      <td>Male</td>\n",
              "      <td>2014</td>\n",
              "      <td>4</td>\n",
              "      <td>2</td>\n",
              "      <td>What is your gender?</td>\n",
              "      <td>2</td>\n",
              "    </tr>\n",
              "    <tr>\n",
              "      <th>1264</th>\n",
              "      <td>Male</td>\n",
              "      <td>2014</td>\n",
              "      <td>5</td>\n",
              "      <td>2</td>\n",
              "      <td>What is your gender?</td>\n",
              "      <td>2</td>\n",
              "    </tr>\n",
              "  </tbody>\n",
              "</table>\n",
              "</div>"
            ],
            "text/plain": [
              "     AnswerText  SurveyID  UserID  QuestionID          questiontext  questionid\n",
              "1260     Female      2014       1           2  What is your gender?           2\n",
              "1261       Male      2014       2           2  What is your gender?           2\n",
              "1262       Male      2014       3           2  What is your gender?           2\n",
              "1263       Male      2014       4           2  What is your gender?           2\n",
              "1264       Male      2014       5           2  What is your gender?           2"
            ]
          },
          "metadata": {
            "tags": []
          },
          "execution_count": 73
        }
      ]
    },
    {
      "cell_type": "code",
      "metadata": {
        "colab": {
          "base_uri": "https://localhost:8080/"
        },
        "id": "tQck-FPrM5vN",
        "outputId": "8073e8fa-05ef-4ae6-cd56-c44bf0a4bcba"
      },
      "source": [
        "gender.AnswerText.value_counts()"
      ],
      "execution_count": 77,
      "outputs": [
        {
          "output_type": "execute_result",
          "data": {
            "text/plain": [
              "Male                                              3042\n",
              "Female                                            1024\n",
              "-1                                                  24\n",
              "Nonbinary                                            8\n",
              "non-binary                                           6\n",
              "                                                  ... \n",
              "Other/Transfeminine                                  1\n",
              "fm                                                   1\n",
              "ostensibly male, unsure what that really means       1\n",
              "genderfluid                                          1\n",
              "Nah                                                  1\n",
              "Name: AnswerText, Length: 99, dtype: int64"
            ]
          },
          "metadata": {
            "tags": []
          },
          "execution_count": 77
        }
      ]
    },
    {
      "cell_type": "code",
      "metadata": {
        "colab": {
          "base_uri": "https://localhost:8080/"
        },
        "id": "bL8Sk_bWNLIi",
        "outputId": "ac9be4f5-4425-4780-8c0f-c2420b6ede6d"
      },
      "source": [
        "gender.AnswerText.nunique()"
      ],
      "execution_count": 146,
      "outputs": [
        {
          "output_type": "execute_result",
          "data": {
            "text/plain": [
              "76"
            ]
          },
          "metadata": {
            "tags": []
          },
          "execution_count": 146
        }
      ]
    },
    {
      "cell_type": "code",
      "metadata": {
        "id": "k3UT2YaDNO17"
      },
      "source": [
        "gender.AnswerText.replace([\"male\", \"I have a penis\", \"MALE\", \"Male-ish\"], \"Male\", inplace = True)\n",
        "gender.AnswerText.replace(\"ostensibly male, unsure what that really means\", \"Male\", inplace = True)\n",
        "gender.AnswerText.replace([\"female\", \"fm\", \"Female-ish\"], \"Female\", inplace = True)\n",
        "gender.AnswerText.replace([\"None\", \"Enby\", \"none\", \"Agender\", \"agender\", \"Genderfluid\", \"Genderqueer\",\n",
        "                           \"non-binary\", \"Non-binary\", \"genderfluid\", \"Fluid\", \n",
        "                           \"Genderqueer/non-binary\", \"Non binary\", \"Male (trans, FtM)\", \"Demiguy\"], \"Nonbinary\", inplace = True)\n",
        "gender.AnswerText.replace([\"Trans woman\", \"Other/Transfeminine\", \"Female (trans)\"], \"Transgender woman\", inplace = True)\n",
        "\n",
        "\n"
      ],
      "execution_count": 153,
      "outputs": []
    },
    {
      "cell_type": "code",
      "metadata": {
        "id": "DUz631DiPx0Q"
      },
      "source": [
        "gender = gender[gender.AnswerText != \"-1\"]\n",
        "gender = gender[gender.AnswerText != \"Nah\"]"
      ],
      "execution_count": null,
      "outputs": []
    },
    {
      "cell_type": "code",
      "metadata": {
        "colab": {
          "base_uri": "https://localhost:8080/"
        },
        "id": "D-9JuokbNZ2v",
        "outputId": "3eb5fa1d-76c4-429d-d5dd-a9be323b3347"
      },
      "source": [
        "gender.AnswerText.value_counts()"
      ],
      "execution_count": 154,
      "outputs": [
        {
          "output_type": "execute_result",
          "data": {
            "text/plain": [
              "Male                            3047\n",
              "Female                          1026\n",
              "Nonbinary                         43\n",
              "Transgender woman                  6\n",
              "Other                              2\n",
              "                                ... \n",
              "male leaning androgynous           1\n",
              "Transfeminine                      1\n",
              "Female or Multi-Gender Femme       1\n",
              "femmina                            1\n",
              "Male/genderqueer                   1\n",
              "Name: AnswerText, Length: 73, dtype: int64"
            ]
          },
          "metadata": {
            "tags": []
          },
          "execution_count": 154
        }
      ]
    },
    {
      "cell_type": "code",
      "metadata": {
        "id": "M8Qrj5CFPsM0"
      },
      "source": [
        ""
      ],
      "execution_count": 140,
      "outputs": []
    },
    {
      "cell_type": "code",
      "metadata": {
        "id": "WJSJxQp3NtR5"
      },
      "source": [
        "gender = gender[gender.AnswerText != \"-1\"]"
      ],
      "execution_count": 111,
      "outputs": []
    },
    {
      "cell_type": "code",
      "metadata": {
        "id": "OFYWOSd_PpUG"
      },
      "source": [
        ""
      ],
      "execution_count": null,
      "outputs": []
    }
  ]
}